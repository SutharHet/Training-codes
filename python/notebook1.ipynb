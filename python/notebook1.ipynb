{
 "cells": [
  {
   "cell_type": "code",
   "execution_count": 31,
   "id": "e8451f70",
   "metadata": {},
   "outputs": [
    {
     "data": {
      "text/plain": [
       "'OnEoNe'"
      ]
     },
     "execution_count": 31,
     "metadata": {},
     "output_type": "execute_result"
    }
   ],
   "source": [
    "def myfunc(*args):\n",
    "    arr = list(args[0])\n",
    "    for i in range(len(arr)):\n",
    "        if i%2==0:\n",
    "            arr[i] = arr[i].upper()\n",
    "        else:\n",
    "            arr[i] = arr[i].lower()\n",
    "    s = ''\n",
    "    return s.join(arr)"
   ]
  },
  {
   "cell_type": "code",
   "execution_count": null,
   "id": "b7139bd4",
   "metadata": {},
   "outputs": [],
   "source": []
  }
 ],
 "metadata": {
  "kernelspec": {
   "display_name": "Python 3 (ipykernel)",
   "language": "python",
   "name": "python3"
  },
  "language_info": {
   "codemirror_mode": {
    "name": "ipython",
    "version": 3
   },
   "file_extension": ".py",
   "mimetype": "text/x-python",
   "name": "python",
   "nbconvert_exporter": "python",
   "pygments_lexer": "ipython3",
   "version": "3.9.7"
  }
 },
 "nbformat": 4,
 "nbformat_minor": 5
}
